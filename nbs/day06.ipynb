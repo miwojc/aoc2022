{
 "cells": [
  {
   "cell_type": "markdown",
   "metadata": {},
   "source": [
    "# Day 6: Tuning Trouble"
   ]
  },
  {
   "cell_type": "markdown",
   "metadata": {},
   "source": [
    "## Part One"
   ]
  },
  {
   "cell_type": "markdown",
   "metadata": {},
   "source": [
    "The preparations are finally complete; you and the Elves leave camp on foot and begin to make your way toward the star fruit grove.\n",
    "\n",
    "As you move through the dense undergrowth, one of the Elves gives you a handheld device. He says that it has many fancy features, but the most important one to set up right now is the communication system.\n",
    "\n",
    "However, because he's heard you have significant experience dealing with signal-based systems, he convinced the other Elves that it would be okay to give you their one malfunctioning device - surely you'll have no problem fixing it.\n",
    "\n",
    "As if inspired by comedic timing, the device emits a few colorful sparks.\n",
    "\n",
    "To be able to communicate with the Elves, the device needs to lock on to their signal. The signal is a series of seemingly-random characters that the device receives one at a time.\n",
    "\n",
    "To fix the communication system, you need to add a subroutine to the device that detects a start-of-packet marker in the datastream. In the protocol being used by the Elves, the start of a packet is indicated by a sequence of four characters that are all different.\n",
    "\n",
    "The device will send your subroutine a datastream buffer (your puzzle input); your subroutine needs to identify the first position where the four most recently received characters were all different. Specifically, it needs to report the number of characters from the beginning of the buffer to the end of the first such four-character marker.\n",
    "\n",
    "For example, suppose you receive the following datastream buffer:\n",
    "```\n",
    "mjqjpqmgbljsphdztnvjfqwrcgsmlb\n",
    "```\n",
    "After the first three characters (mjq) have been received, there haven't been enough characters received yet to find the marker. The first time a marker could occur is after the fourth character is received, making the most recent four characters mjqj. Because j is repeated, this isn't a marker.\n",
    "\n",
    "The first time a marker appears is after the seventh character arrives. Once it does, the last four characters received are jpqm, which are all different. In this case, your subroutine should report the value 7, because the first start-of-packet marker is complete after 7 characters have been processed.\n",
    "\n",
    "Here are a few more examples:\n",
    "```\n",
    "    bvwbjplbgvbhsrlpgdmjqwftvncz: first marker after character 5\n",
    "    nppdvjthqldpwncqszvftbrmjlhg: first marker after character 6\n",
    "    nznrnfrfntjfmvfwmzdfjlvtqnbhcprsg: first marker after character 10\n",
    "    zcfzfwzzqfrljwzlrfnpqdbhtmscgvjw: first marker after character 11\n",
    "```\n",
    "How many characters need to be processed before the first start-of-packet marker is detected?"
   ]
  },
  {
   "cell_type": "markdown",
   "metadata": {},
   "source": [
    "### Solution"
   ]
  },
  {
   "cell_type": "code",
   "execution_count": null,
   "metadata": {},
   "outputs": [],
   "source": [
    "from pathlib import Path"
   ]
  },
  {
   "cell_type": "code",
   "execution_count": null,
   "metadata": {},
   "outputs": [],
   "source": [
    "def find_marker(datastream: str, nunique: int) -> int:\n",
    "    \"\"\"Find number of characters in input datastream when number of unique characters are received\"\"\"\n",
    "    for idx, _ in enumerate(datastream, start=nunique):\n",
    "        if len(set(datastream[idx - nunique : idx])) == nunique:\n",
    "            return idx"
   ]
  },
  {
   "cell_type": "markdown",
   "metadata": {},
   "source": [
    "## Tests"
   ]
  },
  {
   "cell_type": "code",
   "execution_count": null,
   "metadata": {},
   "outputs": [],
   "source": [
    "assert find_marker(\"mjqjpqmgbljsphdztnvjfqwrcgsmlb\", 4) == 7\n",
    "assert find_marker(\"bvwbjplbgvbhsrlpgdmjqwftvncz\", 4) == 5\n",
    "assert find_marker(\"nppdvjthqldpwncqszvftbrmjlhg\", 4) == 6\n",
    "assert find_marker(\"nznrnfrfntjfmvfwmzdfjlvtqnbhcprsg\", 4) == 10\n",
    "assert find_marker(\"zcfzfwzzqfrljwzlrfnpqdbhtmscgvjw\", 4) == 11"
   ]
  },
  {
   "cell_type": "markdown",
   "metadata": {},
   "source": [
    "## Answer"
   ]
  },
  {
   "cell_type": "code",
   "execution_count": null,
   "metadata": {},
   "outputs": [],
   "source": [
    "datastream = Path(\"../input/06.txt\").read_text()"
   ]
  },
  {
   "cell_type": "code",
   "execution_count": null,
   "metadata": {},
   "outputs": [
    {
     "data": {
      "text/plain": [
       "1598"
      ]
     },
     "execution_count": null,
     "metadata": {},
     "output_type": "execute_result"
    }
   ],
   "source": [
    "find_marker(datastream, 4)"
   ]
  },
  {
   "cell_type": "markdown",
   "metadata": {},
   "source": [
    "## Part Two"
   ]
  },
  {
   "cell_type": "markdown",
   "metadata": {},
   "source": [
    "Your device's communication system is correctly detecting packets, but still isn't working. It looks like it also needs to look for messages.\n",
    "\n",
    "A start-of-message marker is just like a start-of-packet marker, except it consists of 14 distinct characters rather than 4.\n",
    "\n",
    "Here are the first positions of start-of-message markers for all of the above examples:\n",
    "```\n",
    "    mjqjpqmgbljsphdztnvjfqwrcgsmlb: first marker after character 19\n",
    "    bvwbjplbgvbhsrlpgdmjqwftvncz: first marker after character 23\n",
    "    nppdvjthqldpwncqszvftbrmjlhg: first marker after character 23\n",
    "    nznrnfrfntjfmvfwmzdfjlvtqnbhcprsg: first marker after character 29\n",
    "    zcfzfwzzqfrljwzlrfnpqdbhtmscgvjw: first marker after character 26\n",
    "```\n",
    "How many characters need to be processed before the first start-of-message marker is detected?"
   ]
  },
  {
   "cell_type": "markdown",
   "metadata": {},
   "source": [
    "### Tests"
   ]
  },
  {
   "cell_type": "code",
   "execution_count": null,
   "metadata": {},
   "outputs": [],
   "source": [
    "assert find_marker(\"mjqjpqmgbljsphdztnvjfqwrcgsmlb\", 14)\n",
    "assert find_marker(\"bvwbjplbgvbhsrlpgdmjqwftvncz\", 14)\n",
    "assert find_marker(\"nppdvjthqldpwncqszvftbrmjlhg\", 14)\n",
    "assert find_marker(\"nznrnfrfntjfmvfwmzdfjlvtqnbhcprsg\", 14)\n",
    "assert find_marker(\"zcfzfwzzqfrljwzlrfnpqdbhtmscgvjw\", 14)"
   ]
  },
  {
   "cell_type": "markdown",
   "metadata": {},
   "source": [
    "### Answer"
   ]
  },
  {
   "cell_type": "code",
   "execution_count": null,
   "metadata": {},
   "outputs": [
    {
     "data": {
      "text/plain": [
       "2414"
      ]
     },
     "execution_count": null,
     "metadata": {},
     "output_type": "execute_result"
    }
   ],
   "source": [
    "find_marker(datastream, 14)"
   ]
  },
  {
   "cell_type": "code",
   "execution_count": null,
   "metadata": {},
   "outputs": [],
   "source": []
  }
 ],
 "metadata": {
  "kernelspec": {
   "display_name": "Python 3 (ipykernel)",
   "language": "python",
   "name": "python3"
  }
 },
 "nbformat": 4,
 "nbformat_minor": 4
}
